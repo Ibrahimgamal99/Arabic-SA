{
 "cells": [
  {
   "cell_type": "code",
   "execution_count": 1,
   "metadata": {},
   "outputs": [],
   "source": [
    "import pandas as pd\n",
    "from sklearn.model_selection import train_test_split\n",
    "from sklearn.feature_extraction.text import CountVectorizer\n",
    "from sklearn.naive_bayes import GaussianNB\n",
    "from sklearn.svm import LinearSVC\n",
    "from sklearn.ensemble import RandomForestClassifier\n",
    "from sklearn.linear_model import LogisticRegression, SGDClassifier\n",
    "from sklearn.metrics import confusion_matrix\n",
    "from sklearn.metrics import accuracy_score"
   ]
  },
  {
   "cell_type": "code",
   "execution_count": 2,
   "metadata": {},
   "outputs": [
    {
     "data": {
      "text/html": [
       "<div>\n",
       "<style scoped>\n",
       "    .dataframe tbody tr th:only-of-type {\n",
       "        vertical-align: middle;\n",
       "    }\n",
       "\n",
       "    .dataframe tbody tr th {\n",
       "        vertical-align: top;\n",
       "    }\n",
       "\n",
       "    .dataframe thead th {\n",
       "        text-align: right;\n",
       "    }\n",
       "</style>\n",
       "<table border=\"1\" class=\"dataframe\">\n",
       "  <thead>\n",
       "    <tr style=\"text-align: right;\">\n",
       "      <th></th>\n",
       "      <th>text</th>\n",
       "      <th>polarity</th>\n",
       "    </tr>\n",
       "  </thead>\n",
       "  <tbody>\n",
       "    <tr>\n",
       "      <th>3646</th>\n",
       "      <td>ميز داءما مطعم ميز باكلاته الشاميه ويشتهر بالو...</td>\n",
       "      <td>1</td>\n",
       "    </tr>\n",
       "    <tr>\n",
       "      <th>7992</th>\n",
       "      <td>اعجبني جدا المطعم احست طبخت الطعام التراث والن...</td>\n",
       "      <td>1</td>\n",
       "    </tr>\n",
       "    <tr>\n",
       "      <th>8648</th>\n",
       "      <td>مشوي الدجاج تبعهم لذيذ</td>\n",
       "      <td>1</td>\n",
       "    </tr>\n",
       "    <tr>\n",
       "      <th>9492</th>\n",
       "      <td>افضل المطاعم لعواءل ديكور بسيط مشكلته زحمه الو...</td>\n",
       "      <td>1</td>\n",
       "    </tr>\n",
       "    <tr>\n",
       "      <th>7915</th>\n",
       "      <td>جربت برجر الدجاج جربته مشوي الصاج جربت بوفيه ف...</td>\n",
       "      <td>1</td>\n",
       "    </tr>\n",
       "    <tr>\n",
       "      <th>2235</th>\n",
       "      <td>انصح بشراء السلعه مطلقا ولذلك لكونها شكل جذاب ...</td>\n",
       "      <td>0</td>\n",
       "    </tr>\n",
       "    <tr>\n",
       "      <th>310</th>\n",
       "      <td>سعيد كلاكيت ضحيه الوهم والتلفيق الدرامي بيتر م...</td>\n",
       "      <td>0</td>\n",
       "    </tr>\n",
       "    <tr>\n",
       "      <th>4813</th>\n",
       "      <td>اسف احترامي لمطعم اكل المطعم يجيني تسم قلت يمك...</td>\n",
       "      <td>0</td>\n",
       "    </tr>\n",
       "    <tr>\n",
       "      <th>3669</th>\n",
       "      <td>الاهتمام بالبوفيه المفتوح شي بيكون جميل جدا عا...</td>\n",
       "      <td>1</td>\n",
       "    </tr>\n",
       "    <tr>\n",
       "      <th>2057</th>\n",
       "      <td>شكرا لسوق دوت كوم فالبضاعه وصلت خلال يومين علم...</td>\n",
       "      <td>1</td>\n",
       "    </tr>\n",
       "  </tbody>\n",
       "</table>\n",
       "</div>"
      ],
      "text/plain": [
       "                                                   text  polarity\n",
       "3646  ميز داءما مطعم ميز باكلاته الشاميه ويشتهر بالو...         1\n",
       "7992  اعجبني جدا المطعم احست طبخت الطعام التراث والن...         1\n",
       "8648                             مشوي الدجاج تبعهم لذيذ         1\n",
       "9492  افضل المطاعم لعواءل ديكور بسيط مشكلته زحمه الو...         1\n",
       "7915  جربت برجر الدجاج جربته مشوي الصاج جربت بوفيه ف...         1\n",
       "2235  انصح بشراء السلعه مطلقا ولذلك لكونها شكل جذاب ...         0\n",
       "310   سعيد كلاكيت ضحيه الوهم والتلفيق الدرامي بيتر م...         0\n",
       "4813  اسف احترامي لمطعم اكل المطعم يجيني تسم قلت يمك...         0\n",
       "3669  الاهتمام بالبوفيه المفتوح شي بيكون جميل جدا عا...         1\n",
       "2057  شكرا لسوق دوت كوم فالبضاعه وصلت خلال يومين علم...         1"
      ]
     },
     "execution_count": 2,
     "metadata": {},
     "output_type": "execute_result"
    }
   ],
   "source": [
    "#reading a data\n",
    "df = pd.read_csv(\"data.csv\",encoding=\"utf-8\")\n",
    "df.sample(10)"
   ]
  },
  {
   "cell_type": "code",
   "execution_count": 3,
   "metadata": {},
   "outputs": [],
   "source": [
    "X=df['text']\n",
    "y=df['polarity']"
   ]
  },
  {
   "cell_type": "code",
   "execution_count": 4,
   "metadata": {},
   "outputs": [],
   "source": [
    "from sklearn.feature_extraction.text import TfidfVectorizer\n",
    "tfidfconverter = TfidfVectorizer(min_df=10 ,max_features=8196)\n",
    "X = tfidfconverter.fit_transform(X).toarray()"
   ]
  },
  {
   "cell_type": "code",
   "execution_count": 5,
   "metadata": {},
   "outputs": [],
   "source": [
    "from sklearn.model_selection import train_test_split\n",
    "X_train, X_test, y_train, y_test = train_test_split(X, y, test_size=0.25, random_state=60)"
   ]
  },
  {
   "cell_type": "code",
   "execution_count": 6,
   "metadata": {},
   "outputs": [],
   "source": [
    "clfs=[GaussianNB,RandomForestClassifier,LogisticRegression,SGDClassifier,LinearSVC]\n",
    "clfs_str=[\"GaussianNB\",\"RandomForestClassifier\",\"LogisticRegression\",\"SGDClassifier\",\"LinearSVC\"]"
   ]
  },
  {
   "cell_type": "code",
   "execution_count": 7,
   "metadata": {},
   "outputs": [],
   "source": [
    "score=[]\n",
    "def model(clf,X_train,y_train,X_test,y_test):\n",
    "    classifier = clf()\n",
    "    classifier.fit(X_train, y_train)\n",
    "    y_pred = classifier.predict(X_test)  # Predicting the Test set results\n",
    "    score.append(accuracy_score(y_test,y_pred)*100)"
   ]
  },
  {
   "cell_type": "code",
   "execution_count": 8,
   "metadata": {},
   "outputs": [
    {
     "name": "stdout",
     "output_type": "stream",
     "text": [
      "GaussianNB : 68.55 % \n",
      "RandomForestClassifier : 81.59 % \n",
      "LogisticRegression : 83.68 % \n",
      "SGDClassifier : 83.15 % \n",
      "LinearSVC : 81.47 % \n"
     ]
    }
   ],
   "source": [
    "i=0\n",
    "for clf in clfs:\n",
    "    model(clf,X_train,y_train,X_test,y_test)\n",
    "    print(clfs_str[i]+\" : {:.2f} % \".format(score[i]))\n",
    "    i+=1"
   ]
  },
  {
   "cell_type": "code",
   "execution_count": null,
   "metadata": {},
   "outputs": [],
   "source": []
  }
 ],
 "metadata": {
  "kernelspec": {
   "display_name": "Python 3 (ipykernel)",
   "language": "python",
   "name": "python3"
  },
  "language_info": {
   "codemirror_mode": {
    "name": "ipython",
    "version": 3
   },
   "file_extension": ".py",
   "mimetype": "text/x-python",
   "name": "python",
   "nbconvert_exporter": "python",
   "pygments_lexer": "ipython3",
   "version": "3.9.12"
  }
 },
 "nbformat": 4,
 "nbformat_minor": 2
}
