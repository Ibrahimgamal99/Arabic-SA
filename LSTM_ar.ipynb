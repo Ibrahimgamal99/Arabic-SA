{
  "cells": [
    {
      "cell_type": "code",
      "source": [
        "from google.colab import drive\n",
        "drive.mount('/content/drive')"
      ],
      "metadata": {
        "colab": {
          "base_uri": "https://localhost:8080/"
        },
        "id": "_DhJf1i6H-HR",
        "outputId": "7fc9b5cd-d0ea-433d-ed68-290872c5351c"
      },
      "execution_count": null,
      "outputs": [
        {
          "output_type": "stream",
          "name": "stdout",
          "text": [
            "Drive already mounted at /content/drive; to attempt to forcibly remount, call drive.mount(\"/content/drive\", force_remount=True).\n"
          ]
        }
      ]
    },
    {
      "cell_type": "code",
      "execution_count": null,
      "metadata": {
        "id": "cEGzipCckmLG"
      },
      "outputs": [],
      "source": [
        "import keras\n",
        "import pandas as pd\n",
        "from keras.utils import pad_sequences\n",
        "from keras.models import Sequential\n",
        "from keras.layers import LSTM,Embedding,Dense,Dropout\n",
        "from keras.preprocessing.text import Tokenizer\n",
        "from keras.datasets import imdb\n",
        "from matplotlib import pyplot as plt"
      ]
    },
    {
      "cell_type": "code",
      "execution_count": null,
      "metadata": {
        "colab": {
          "base_uri": "https://localhost:8080/",
          "height": 677
        },
        "id": "AgHF3IoLH3MX",
        "outputId": "127aa9aa-5774-4ebe-b7ec-6a6dcbc27640"
      },
      "outputs": [
        {
          "output_type": "execute_result",
          "data": {
            "text/plain": [
              "                                                   text  polarity\n",
              "3523  الاكل المقدم سيء لغايه والمكان نظيف ابدا وتعام...         0\n",
              "3455  مكان وطعام جميل اجمل المطاعم الاجواء والاكل ال...         1\n",
              "9433  لذيذ واحب الحم بالبندوره حقهم حمص لحم ريش يمي يمي         1\n",
              "5451  ديكور المطعم عادي الجلسات جدا عاديه البرجر تجي...         0\n",
              "4600  مستوي المطعم امريكا جيد وكيله بالسعوديه يخدمه ...         0\n",
              "3336  موقف سيء لغايه تعرضت زيارتي الاولي لهذا المطعم...         0\n",
              "121   اختيار سن المثلين خطا كبير الفن المصري سينما ج...         0\n",
              "6073  جوده الطبخ افضل المطاعم مستوي القصيم طبخ الارز...         1\n",
              "6919  باباروتي مشهور بنوع معين الخبر يسموه بان يستحق...         1\n",
              "9378  المطعم روعه بكل شي ديكور جميل وقاءمه جيده واسع...         1\n",
              "838   فاصل ونعود ذهبت الحبكه ولم تعود عربي كريم عبدا...         0\n",
              "807   شيءين مختلفين عمر وسلمي بالرغم القصه ماخوذه قص...         1\n",
              "3001  كتب السلعه فالتكبير بسيط لا يتجاوز والزر يبعد ...         0\n",
              "3630  جيد كطعام سريع نظيف المطعم قريب جدا الحرم وهذه...         1\n",
              "9532  شاورمتهم رهيبه تذوقت زيها انهم يبيعوها بالسعر ...         1\n",
              "7495  رحت مره الاكل لذيذ جدا الجلسات رايقه وتفتح الن...         1\n",
              "4764  عروضه تجي متازه التخفيضات السعر اغلي غيره بريا...         1\n",
              "6732    المطعم سيء ومكان محترم لا يصلح لعاءلات المحترمه         0\n",
              "1061  ماكينه متازه ومتعده الاغراض وسهله وبسيطه الاست...         1\n",
              "6453  المطعم بهذا السوء اقيمه بالسالب يكون المطعم اخ...         0"
            ],
            "text/html": [
              "\n",
              "  <div id=\"df-ad24d446-6462-4a3f-bbaa-43a104b1d131\">\n",
              "    <div class=\"colab-df-container\">\n",
              "      <div>\n",
              "<style scoped>\n",
              "    .dataframe tbody tr th:only-of-type {\n",
              "        vertical-align: middle;\n",
              "    }\n",
              "\n",
              "    .dataframe tbody tr th {\n",
              "        vertical-align: top;\n",
              "    }\n",
              "\n",
              "    .dataframe thead th {\n",
              "        text-align: right;\n",
              "    }\n",
              "</style>\n",
              "<table border=\"1\" class=\"dataframe\">\n",
              "  <thead>\n",
              "    <tr style=\"text-align: right;\">\n",
              "      <th></th>\n",
              "      <th>text</th>\n",
              "      <th>polarity</th>\n",
              "    </tr>\n",
              "  </thead>\n",
              "  <tbody>\n",
              "    <tr>\n",
              "      <th>3523</th>\n",
              "      <td>الاكل المقدم سيء لغايه والمكان نظيف ابدا وتعام...</td>\n",
              "      <td>0</td>\n",
              "    </tr>\n",
              "    <tr>\n",
              "      <th>3455</th>\n",
              "      <td>مكان وطعام جميل اجمل المطاعم الاجواء والاكل ال...</td>\n",
              "      <td>1</td>\n",
              "    </tr>\n",
              "    <tr>\n",
              "      <th>9433</th>\n",
              "      <td>لذيذ واحب الحم بالبندوره حقهم حمص لحم ريش يمي يمي</td>\n",
              "      <td>1</td>\n",
              "    </tr>\n",
              "    <tr>\n",
              "      <th>5451</th>\n",
              "      <td>ديكور المطعم عادي الجلسات جدا عاديه البرجر تجي...</td>\n",
              "      <td>0</td>\n",
              "    </tr>\n",
              "    <tr>\n",
              "      <th>4600</th>\n",
              "      <td>مستوي المطعم امريكا جيد وكيله بالسعوديه يخدمه ...</td>\n",
              "      <td>0</td>\n",
              "    </tr>\n",
              "    <tr>\n",
              "      <th>3336</th>\n",
              "      <td>موقف سيء لغايه تعرضت زيارتي الاولي لهذا المطعم...</td>\n",
              "      <td>0</td>\n",
              "    </tr>\n",
              "    <tr>\n",
              "      <th>121</th>\n",
              "      <td>اختيار سن المثلين خطا كبير الفن المصري سينما ج...</td>\n",
              "      <td>0</td>\n",
              "    </tr>\n",
              "    <tr>\n",
              "      <th>6073</th>\n",
              "      <td>جوده الطبخ افضل المطاعم مستوي القصيم طبخ الارز...</td>\n",
              "      <td>1</td>\n",
              "    </tr>\n",
              "    <tr>\n",
              "      <th>6919</th>\n",
              "      <td>باباروتي مشهور بنوع معين الخبر يسموه بان يستحق...</td>\n",
              "      <td>1</td>\n",
              "    </tr>\n",
              "    <tr>\n",
              "      <th>9378</th>\n",
              "      <td>المطعم روعه بكل شي ديكور جميل وقاءمه جيده واسع...</td>\n",
              "      <td>1</td>\n",
              "    </tr>\n",
              "    <tr>\n",
              "      <th>838</th>\n",
              "      <td>فاصل ونعود ذهبت الحبكه ولم تعود عربي كريم عبدا...</td>\n",
              "      <td>0</td>\n",
              "    </tr>\n",
              "    <tr>\n",
              "      <th>807</th>\n",
              "      <td>شيءين مختلفين عمر وسلمي بالرغم القصه ماخوذه قص...</td>\n",
              "      <td>1</td>\n",
              "    </tr>\n",
              "    <tr>\n",
              "      <th>3001</th>\n",
              "      <td>كتب السلعه فالتكبير بسيط لا يتجاوز والزر يبعد ...</td>\n",
              "      <td>0</td>\n",
              "    </tr>\n",
              "    <tr>\n",
              "      <th>3630</th>\n",
              "      <td>جيد كطعام سريع نظيف المطعم قريب جدا الحرم وهذه...</td>\n",
              "      <td>1</td>\n",
              "    </tr>\n",
              "    <tr>\n",
              "      <th>9532</th>\n",
              "      <td>شاورمتهم رهيبه تذوقت زيها انهم يبيعوها بالسعر ...</td>\n",
              "      <td>1</td>\n",
              "    </tr>\n",
              "    <tr>\n",
              "      <th>7495</th>\n",
              "      <td>رحت مره الاكل لذيذ جدا الجلسات رايقه وتفتح الن...</td>\n",
              "      <td>1</td>\n",
              "    </tr>\n",
              "    <tr>\n",
              "      <th>4764</th>\n",
              "      <td>عروضه تجي متازه التخفيضات السعر اغلي غيره بريا...</td>\n",
              "      <td>1</td>\n",
              "    </tr>\n",
              "    <tr>\n",
              "      <th>6732</th>\n",
              "      <td>المطعم سيء ومكان محترم لا يصلح لعاءلات المحترمه</td>\n",
              "      <td>0</td>\n",
              "    </tr>\n",
              "    <tr>\n",
              "      <th>1061</th>\n",
              "      <td>ماكينه متازه ومتعده الاغراض وسهله وبسيطه الاست...</td>\n",
              "      <td>1</td>\n",
              "    </tr>\n",
              "    <tr>\n",
              "      <th>6453</th>\n",
              "      <td>المطعم بهذا السوء اقيمه بالسالب يكون المطعم اخ...</td>\n",
              "      <td>0</td>\n",
              "    </tr>\n",
              "  </tbody>\n",
              "</table>\n",
              "</div>\n",
              "      <button class=\"colab-df-convert\" onclick=\"convertToInteractive('df-ad24d446-6462-4a3f-bbaa-43a104b1d131')\"\n",
              "              title=\"Convert this dataframe to an interactive table.\"\n",
              "              style=\"display:none;\">\n",
              "        \n",
              "  <svg xmlns=\"http://www.w3.org/2000/svg\" height=\"24px\"viewBox=\"0 0 24 24\"\n",
              "       width=\"24px\">\n",
              "    <path d=\"M0 0h24v24H0V0z\" fill=\"none\"/>\n",
              "    <path d=\"M18.56 5.44l.94 2.06.94-2.06 2.06-.94-2.06-.94-.94-2.06-.94 2.06-2.06.94zm-11 1L8.5 8.5l.94-2.06 2.06-.94-2.06-.94L8.5 2.5l-.94 2.06-2.06.94zm10 10l.94 2.06.94-2.06 2.06-.94-2.06-.94-.94-2.06-.94 2.06-2.06.94z\"/><path d=\"M17.41 7.96l-1.37-1.37c-.4-.4-.92-.59-1.43-.59-.52 0-1.04.2-1.43.59L10.3 9.45l-7.72 7.72c-.78.78-.78 2.05 0 2.83L4 21.41c.39.39.9.59 1.41.59.51 0 1.02-.2 1.41-.59l7.78-7.78 2.81-2.81c.8-.78.8-2.07 0-2.86zM5.41 20L4 18.59l7.72-7.72 1.47 1.35L5.41 20z\"/>\n",
              "  </svg>\n",
              "      </button>\n",
              "      \n",
              "  <style>\n",
              "    .colab-df-container {\n",
              "      display:flex;\n",
              "      flex-wrap:wrap;\n",
              "      gap: 12px;\n",
              "    }\n",
              "\n",
              "    .colab-df-convert {\n",
              "      background-color: #E8F0FE;\n",
              "      border: none;\n",
              "      border-radius: 50%;\n",
              "      cursor: pointer;\n",
              "      display: none;\n",
              "      fill: #1967D2;\n",
              "      height: 32px;\n",
              "      padding: 0 0 0 0;\n",
              "      width: 32px;\n",
              "    }\n",
              "\n",
              "    .colab-df-convert:hover {\n",
              "      background-color: #E2EBFA;\n",
              "      box-shadow: 0px 1px 2px rgba(60, 64, 67, 0.3), 0px 1px 3px 1px rgba(60, 64, 67, 0.15);\n",
              "      fill: #174EA6;\n",
              "    }\n",
              "\n",
              "    [theme=dark] .colab-df-convert {\n",
              "      background-color: #3B4455;\n",
              "      fill: #D2E3FC;\n",
              "    }\n",
              "\n",
              "    [theme=dark] .colab-df-convert:hover {\n",
              "      background-color: #434B5C;\n",
              "      box-shadow: 0px 1px 3px 1px rgba(0, 0, 0, 0.15);\n",
              "      filter: drop-shadow(0px 1px 2px rgba(0, 0, 0, 0.3));\n",
              "      fill: #FFFFFF;\n",
              "    }\n",
              "  </style>\n",
              "\n",
              "      <script>\n",
              "        const buttonEl =\n",
              "          document.querySelector('#df-ad24d446-6462-4a3f-bbaa-43a104b1d131 button.colab-df-convert');\n",
              "        buttonEl.style.display =\n",
              "          google.colab.kernel.accessAllowed ? 'block' : 'none';\n",
              "\n",
              "        async function convertToInteractive(key) {\n",
              "          const element = document.querySelector('#df-ad24d446-6462-4a3f-bbaa-43a104b1d131');\n",
              "          const dataTable =\n",
              "            await google.colab.kernel.invokeFunction('convertToInteractive',\n",
              "                                                     [key], {});\n",
              "          if (!dataTable) return;\n",
              "\n",
              "          const docLinkHtml = 'Like what you see? Visit the ' +\n",
              "            '<a target=\"_blank\" href=https://colab.research.google.com/notebooks/data_table.ipynb>data table notebook</a>'\n",
              "            + ' to learn more about interactive tables.';\n",
              "          element.innerHTML = '';\n",
              "          dataTable['output_type'] = 'display_data';\n",
              "          await google.colab.output.renderOutput(dataTable, element);\n",
              "          const docLink = document.createElement('div');\n",
              "          docLink.innerHTML = docLinkHtml;\n",
              "          element.appendChild(docLink);\n",
              "        }\n",
              "      </script>\n",
              "    </div>\n",
              "  </div>\n",
              "  "
            ]
          },
          "metadata": {},
          "execution_count": 3
        }
      ],
      "source": [
        "df = pd.read_csv(\"/content/drive/MyDrive/ara_sent/data.csv\",encoding=\"utf-8\")\n",
        "df.sample(20)"
      ]
    },
    {
      "cell_type": "code",
      "execution_count": null,
      "metadata": {
        "id": "wMfFBVIUH3Mb"
      },
      "outputs": [],
      "source": [
        "X=df['text']\n",
        "y=df['polarity']\n",
        "from sklearn.model_selection import train_test_split\n",
        "X_train, X_test, y_train, y_test = train_test_split(X, y, test_size=0.25, random_state=60)"
      ]
    },
    {
      "cell_type": "code",
      "source": [
        "phrase_len = X_train.apply(lambda p: len(p.split(' ')))\n",
        "max_phrase_len = phrase_len.max()\n",
        "print('max phrase len: {0}'.format(max_phrase_len))\n",
        "plt.figure(figsize = (6, 4))\n",
        "plt.hist(phrase_len, density = True)\n",
        "plt.xlabel('phrase len')\n",
        "plt.ylabel('probability')\n",
        "plt.grid()"
      ],
      "metadata": {
        "colab": {
          "base_uri": "https://localhost:8080/",
          "height": 409
        },
        "id": "76EgSuI-KDJr",
        "outputId": "7c6bd7b5-93cf-4b6c-d33c-c1e30a994288"
      },
      "execution_count": null,
      "outputs": [
        {
          "output_type": "stream",
          "name": "stdout",
          "text": [
            "max phrase len: 925\n"
          ]
        },
        {
          "output_type": "display_data",
          "data": {
            "text/plain": [
              "<Figure size 600x400 with 1 Axes>"
            ],
            "image/png": "[encoded data removed]"
          },
          "metadata": {}
        }
      ]
    },
    {
      "cell_type": "code",
      "execution_count": null,
      "metadata": {
        "id": "-07oC7p6H3Md"
      },
      "outputs": [],
      "source": [
        "vocab_size = 2**14 # Maximum number of words to keep based on word frequency\n",
        "max_len = 200 # Maximum length of each sequence\n",
        "embedding_dim = 64\n",
        "oov_tok = '<OOV>' #  Out of Vocabulary\n",
        "\n",
        "tokenizer = Tokenizer(num_words=vocab_size,oov_token=oov_tok) \n",
        "tokenizer.fit_on_texts(X)\n",
        "\n",
        "#word_index = tokenizer.word_index   # get word index\n",
        "#word_counts = tokenizer.word_counts   # get word count \n",
        "\n",
        "\n",
        "X_train_seq = tokenizer.texts_to_sequences(X_train)\n",
        "X_test_seq = tokenizer.texts_to_sequences(X_test)\n",
        "\n",
        "X_train_pad = pad_sequences(X_train_seq, maxlen=max_len, padding=\"post\")\n",
        "X_test_pad = pad_sequences(X_test_seq, maxlen=max_len, padding=\"post\")"
      ]
    },
    {
      "cell_type": "code",
      "execution_count": null,
      "metadata": {
        "colab": {
          "base_uri": "https://localhost:8080/",
          "height": 35
        },
        "id": "0znkThaIH3Mf",
        "outputId": "f02193ce-b738-4393-8c99-fdb548aeee0a"
      },
      "outputs": [
        {
          "output_type": "execute_result",
          "data": {
            "text/plain": [
              "'لا انصح بشراءها لانها لايوجد ضمان لا مركز صيانه جودتها رديءه'"
            ],
            "application/vnd.google.colaboratory.intrinsic+json": {
              "type": "string"
            }
          },
          "metadata": {},
          "execution_count": 7
        }
      ],
      "source": [
        "X_train.iloc[345]"
      ]
    },
    {
      "cell_type": "code",
      "execution_count": null,
      "metadata": {
        "colab": {
          "base_uri": "https://localhost:8080/"
        },
        "id": "7dAWvFKnH3Mh",
        "outputId": "e9a8f2d4-e9b3-4efe-d119-810720849173"
      },
      "outputs": [
        {
          "output_type": "execute_result",
          "data": {
            "text/plain": [
              "0"
            ]
          },
          "metadata": {},
          "execution_count": 8
        }
      ],
      "source": [
        "y_train.iloc[345]"
      ]
    },
    {
      "cell_type": "code",
      "execution_count": null,
      "metadata": {
        "colab": {
          "base_uri": "https://localhost:8080/"
        },
        "id": "WMwbbSWXH3Mi",
        "outputId": "cee234d1-888d-41bc-bab1-1e7859b81510"
      },
      "outputs": [
        {
          "output_type": "stream",
          "name": "stdout",
          "text": [
            "4 : لا\n",
            "25 : انصح\n",
            "1698 : بشراءها\n",
            "516 : لانها\n",
            "1154 : لايوجد\n",
            "5248 : ضمان\n",
            "4 : لا\n",
            "2017 : مركز\n",
            "12184 : صيانه\n",
            "5265 : جودتها\n",
            "968 : رديءه\n"
          ]
        }
      ],
      "source": [
        "for i in X_train_seq[345]:\n",
        "    print(f'{i} : {tokenizer.index_word[i]}')"
      ]
    },
    {
      "cell_type": "code",
      "execution_count": null,
      "metadata": {
        "id": "FV02APq7H1Za",
        "colab": {
          "base_uri": "https://localhost:8080/"
        },
        "outputId": "400fa949-7dfe-4a24-c76d-f755f125c0f6"
      },
      "outputs": [
        {
          "output_type": "stream",
          "name": "stdout",
          "text": [
            "Model: \"sequential\"\n",
            "_________________________________________________________________\n",
            " Layer (type)                Output Shape              Param #   \n",
            "=================================================================\n",
            " embedding (Embedding)       (None, 200, 64)           1048640   \n",
            "                                                                 \n",
            " lstm (LSTM)                 (None, 256)               328704    \n",
            "                                                                 \n",
            " dense (Dense)               (None, 1)                 257       \n",
            "                                                                 \n",
            "=================================================================\n",
            "Total params: 1,377,601\n",
            "Trainable params: 1,377,601\n",
            "Non-trainable params: 0\n",
            "_________________________________________________________________\n"
          ]
        }
      ],
      "source": [
        "model = Sequential()\n",
        "model.add(Embedding(vocab_size+1,embedding_dim ,input_length=max_len))\n",
        "model.add(LSTM(256))\n",
        "model.add(Dense(1, activation='sigmoid'))\n",
        "model.summary()"
      ]
    },
    {
      "cell_type": "code",
      "execution_count": null,
      "metadata": {
        "id": "eoRWb6Varl46"
      },
      "outputs": [],
      "source": [
        "model.compile(loss='binary_crossentropy',\n",
        "optimizer='adam',\n",
        "metrics=['accuracy'])"
      ]
    },
    {
      "cell_type": "code",
      "execution_count": null,
      "metadata": {
        "colab": {
          "base_uri": "https://localhost:8080/"
        },
        "id": "6yk1uFK_lsjh",
        "outputId": "a77f7464-80ea-4c1b-bb3a-0d5e50774456"
      },
      "outputs": [
        {
          "output_type": "stream",
          "name": "stdout",
          "text": [
            "Epoch 1/100\n",
            "333/333 [==============================] - 75s 204ms/step - loss: 0.6731 - accuracy: 0.6023 - val_loss: 0.6695 - val_accuracy: 0.6148\n",
            "Epoch 2/100\n",
            "333/333 [==============================] - 43s 128ms/step - loss: 0.6790 - accuracy: 0.6014 - val_loss: 0.6803 - val_accuracy: 0.6148\n",
            "Epoch 3/100\n",
            "333/333 [==============================] - 25s 75ms/step - loss: 0.6784 - accuracy: 0.5896 - val_loss: 0.6664 - val_accuracy: 0.6148\n",
            "Epoch 4/100\n",
            "333/333 [==============================] - 18s 54ms/step - loss: 0.6728 - accuracy: 0.6074 - val_loss: 0.6665 - val_accuracy: 0.6152\n",
            "Epoch 5/100\n",
            "333/333 [==============================] - 14s 41ms/step - loss: 0.6627 - accuracy: 0.6172 - val_loss: 0.6728 - val_accuracy: 0.6135\n",
            "Epoch 6/100\n",
            "333/333 [==============================] - 13s 38ms/step - loss: 0.6550 - accuracy: 0.6208 - val_loss: 0.6759 - val_accuracy: 0.6115\n",
            "Epoch 7/100\n",
            "333/333 [==============================] - 10s 30ms/step - loss: 0.6456 - accuracy: 0.6250 - val_loss: 0.6922 - val_accuracy: 0.6102\n",
            "Epoch 8/100\n",
            "333/333 [==============================] - 9s 27ms/step - loss: 0.6475 - accuracy: 0.6231 - val_loss: 0.6808 - val_accuracy: 0.6131\n",
            "Epoch 9/100\n",
            "333/333 [==============================] - 7s 20ms/step - loss: 0.6407 - accuracy: 0.6272 - val_loss: 0.6871 - val_accuracy: 0.6115\n",
            "Epoch 10/100\n",
            "333/333 [==============================] - 10s 29ms/step - loss: 0.6407 - accuracy: 0.6273 - val_loss: 0.6976 - val_accuracy: 0.6123\n",
            "Epoch 11/100\n",
            "333/333 [==============================] - 8s 25ms/step - loss: 0.6410 - accuracy: 0.6277 - val_loss: 0.6860 - val_accuracy: 0.6123\n",
            "Epoch 12/100\n",
            "333/333 [==============================] - 8s 23ms/step - loss: 0.6380 - accuracy: 0.6275 - val_loss: 0.7075 - val_accuracy: 0.6127\n",
            "Epoch 13/100\n",
            "333/333 [==============================] - 7s 22ms/step - loss: 0.6356 - accuracy: 0.6284 - val_loss: 0.7324 - val_accuracy: 0.6094\n",
            "Epoch 14/100\n",
            "333/333 [==============================] - 6s 17ms/step - loss: 0.6369 - accuracy: 0.6276 - val_loss: 0.7129 - val_accuracy: 0.6119\n",
            "Epoch 15/100\n",
            "333/333 [==============================] - 7s 22ms/step - loss: 0.6416 - accuracy: 0.6296 - val_loss: 0.6778 - val_accuracy: 0.6143\n",
            "Epoch 16/100\n",
            "333/333 [==============================] - 6s 17ms/step - loss: 0.6372 - accuracy: 0.6264 - val_loss: 0.6333 - val_accuracy: 0.6148\n",
            "Epoch 17/100\n",
            "333/333 [==============================] - 5s 14ms/step - loss: 0.4905 - accuracy: 0.7837 - val_loss: 0.5233 - val_accuracy: 0.7684\n",
            "Epoch 18/100\n",
            "333/333 [==============================] - 6s 17ms/step - loss: 0.3168 - accuracy: 0.8840 - val_loss: 0.4987 - val_accuracy: 0.7943\n",
            "Epoch 19/100\n",
            "333/333 [==============================] - 5s 16ms/step - loss: 0.2081 - accuracy: 0.9310 - val_loss: 0.5217 - val_accuracy: 0.7951\n",
            "Epoch 20/100\n",
            "333/333 [==============================] - 5s 16ms/step - loss: 0.1388 - accuracy: 0.9567 - val_loss: 0.6192 - val_accuracy: 0.7803\n",
            "Epoch 21/100\n",
            "333/333 [==============================] - 6s 18ms/step - loss: 0.1012 - accuracy: 0.9684 - val_loss: 0.7171 - val_accuracy: 0.7934\n",
            "Epoch 22/100\n",
            "333/333 [==============================] - 5s 14ms/step - loss: 0.0770 - accuracy: 0.9780 - val_loss: 0.6962 - val_accuracy: 0.7926\n",
            "Epoch 23/100\n",
            "333/333 [==============================] - 6s 19ms/step - loss: 0.0652 - accuracy: 0.9816 - val_loss: 0.7510 - val_accuracy: 0.7955\n",
            "Epoch 24/100\n",
            "333/333 [==============================] - 5s 14ms/step - loss: 0.0588 - accuracy: 0.9832 - val_loss: 0.7974 - val_accuracy: 0.7922\n",
            "Epoch 25/100\n",
            "333/333 [==============================] - 5s 14ms/step - loss: 0.0552 - accuracy: 0.9837 - val_loss: 0.8897 - val_accuracy: 0.7693\n",
            "Epoch 26/100\n",
            "333/333 [==============================] - 5s 15ms/step - loss: 0.0473 - accuracy: 0.9865 - val_loss: 0.8314 - val_accuracy: 0.7807\n",
            "Epoch 27/100\n",
            "333/333 [==============================] - 5s 14ms/step - loss: 0.0440 - accuracy: 0.9870 - val_loss: 0.8487 - val_accuracy: 0.8029\n",
            "Epoch 28/100\n",
            "333/333 [==============================] - 6s 17ms/step - loss: 0.0454 - accuracy: 0.9848 - val_loss: 0.9057 - val_accuracy: 0.7963\n",
            "Epoch 29/100\n",
            "333/333 [==============================] - 5s 16ms/step - loss: 0.0385 - accuracy: 0.9878 - val_loss: 0.9052 - val_accuracy: 0.7984\n",
            "Epoch 30/100\n",
            "333/333 [==============================] - 5s 14ms/step - loss: 0.0347 - accuracy: 0.9907 - val_loss: 0.9521 - val_accuracy: 0.7873\n",
            "Epoch 31/100\n",
            "333/333 [==============================] - 5s 15ms/step - loss: 0.0337 - accuracy: 0.9896 - val_loss: 1.0119 - val_accuracy: 0.7795\n",
            "Epoch 32/100\n",
            "333/333 [==============================] - 5s 15ms/step - loss: 0.0293 - accuracy: 0.9918 - val_loss: 1.0460 - val_accuracy: 0.7725\n",
            "Epoch 33/100\n",
            "333/333 [==============================] - 6s 17ms/step - loss: 0.0319 - accuracy: 0.9885 - val_loss: 1.0550 - val_accuracy: 0.7840\n",
            "Epoch 34/100\n",
            "333/333 [==============================] - 6s 18ms/step - loss: 0.0258 - accuracy: 0.9922 - val_loss: 1.0290 - val_accuracy: 0.7832\n",
            "Epoch 35/100\n",
            "333/333 [==============================] - 6s 17ms/step - loss: 0.0246 - accuracy: 0.9917 - val_loss: 1.0146 - val_accuracy: 0.7762\n",
            "Epoch 36/100\n",
            "333/333 [==============================] - 5s 16ms/step - loss: 0.0226 - accuracy: 0.9934 - val_loss: 0.9522 - val_accuracy: 0.7799\n",
            "Epoch 37/100\n",
            "333/333 [==============================] - 5s 16ms/step - loss: 0.0226 - accuracy: 0.9940 - val_loss: 1.1136 - val_accuracy: 0.7803\n",
            "Epoch 38/100\n",
            "333/333 [==============================] - 5s 16ms/step - loss: 0.0196 - accuracy: 0.9937 - val_loss: 1.2913 - val_accuracy: 0.7742\n",
            "Epoch 39/100\n",
            "333/333 [==============================] - 5s 14ms/step - loss: 0.0197 - accuracy: 0.9945 - val_loss: 1.2438 - val_accuracy: 0.7783\n",
            "Epoch 40/100\n",
            "333/333 [==============================] - 5s 14ms/step - loss: 0.0183 - accuracy: 0.9939 - val_loss: 1.1343 - val_accuracy: 0.7795\n",
            "Epoch 41/100\n",
            "333/333 [==============================] - 5s 15ms/step - loss: 0.0241 - accuracy: 0.9915 - val_loss: 1.1264 - val_accuracy: 0.7857\n",
            "Epoch 42/100\n",
            "333/333 [==============================] - 5s 15ms/step - loss: 0.0264 - accuracy: 0.9918 - val_loss: 1.0114 - val_accuracy: 0.7496\n",
            "Epoch 43/100\n",
            "333/333 [==============================] - 5s 15ms/step - loss: 0.0525 - accuracy: 0.9852 - val_loss: 0.9758 - val_accuracy: 0.7754\n",
            "Epoch 44/100\n",
            "333/333 [==============================] - 5s 15ms/step - loss: 0.0217 - accuracy: 0.9928 - val_loss: 1.1055 - val_accuracy: 0.7754\n",
            "Epoch 45/100\n",
            "333/333 [==============================] - 5s 16ms/step - loss: 0.0162 - accuracy: 0.9939 - val_loss: 1.1768 - val_accuracy: 0.7799\n",
            "Epoch 46/100\n",
            "333/333 [==============================] - 5s 16ms/step - loss: 0.0138 - accuracy: 0.9954 - val_loss: 1.2801 - val_accuracy: 0.7775\n",
            "Epoch 47/100\n",
            "333/333 [==============================] - 5s 14ms/step - loss: 0.0166 - accuracy: 0.9947 - val_loss: 1.1862 - val_accuracy: 0.7730\n",
            "Epoch 48/100\n",
            "333/333 [==============================] - 5s 14ms/step - loss: 0.0158 - accuracy: 0.9944 - val_loss: 1.1907 - val_accuracy: 0.7660\n",
            "Epoch 49/100\n",
            "333/333 [==============================] - 5s 16ms/step - loss: 0.0131 - accuracy: 0.9951 - val_loss: 1.2043 - val_accuracy: 0.7824\n",
            "Epoch 50/100\n",
            "333/333 [==============================] - 5s 14ms/step - loss: 0.0120 - accuracy: 0.9955 - val_loss: 1.2820 - val_accuracy: 0.7750\n",
            "Epoch 51/100\n",
            "333/333 [==============================] - 5s 15ms/step - loss: 0.0113 - accuracy: 0.9948 - val_loss: 1.3791 - val_accuracy: 0.7648\n",
            "Epoch 52/100\n",
            "333/333 [==============================] - 6s 17ms/step - loss: 0.0118 - accuracy: 0.9958 - val_loss: 1.2733 - val_accuracy: 0.7701\n",
            "Epoch 53/100\n",
            "333/333 [==============================] - 5s 14ms/step - loss: 0.0125 - accuracy: 0.9949 - val_loss: 1.3208 - val_accuracy: 0.7746\n",
            "Epoch 54/100\n",
            "333/333 [==============================] - 5s 16ms/step - loss: 0.0113 - accuracy: 0.9951 - val_loss: 1.3892 - val_accuracy: 0.7635\n",
            "Epoch 55/100\n",
            "333/333 [==============================] - 5s 14ms/step - loss: 0.0134 - accuracy: 0.9947 - val_loss: 1.2581 - val_accuracy: 0.7656\n",
            "Epoch 56/100\n",
            "333/333 [==============================] - 5s 14ms/step - loss: 0.0227 - accuracy: 0.9928 - val_loss: 0.8898 - val_accuracy: 0.7787\n",
            "Epoch 57/100\n",
            "333/333 [==============================] - 5s 14ms/step - loss: 0.0206 - accuracy: 0.9926 - val_loss: 1.2118 - val_accuracy: 0.7787\n",
            "Epoch 58/100\n",
            "333/333 [==============================] - 5s 14ms/step - loss: 0.0102 - accuracy: 0.9959 - val_loss: 1.3889 - val_accuracy: 0.7795\n",
            "Epoch 59/100\n",
            "333/333 [==============================] - 5s 15ms/step - loss: 0.0111 - accuracy: 0.9958 - val_loss: 1.3403 - val_accuracy: 0.7754\n",
            "Epoch 60/100\n",
            "333/333 [==============================] - 5s 16ms/step - loss: 0.0092 - accuracy: 0.9962 - val_loss: 1.4029 - val_accuracy: 0.7770\n",
            "Epoch 61/100\n",
            "333/333 [==============================] - 4s 13ms/step - loss: 0.0096 - accuracy: 0.9955 - val_loss: 1.4236 - val_accuracy: 0.7770\n",
            "Epoch 62/100\n",
            "333/333 [==============================] - 5s 14ms/step - loss: 0.0083 - accuracy: 0.9954 - val_loss: 1.5398 - val_accuracy: 0.7656\n",
            "Epoch 63/100\n",
            "333/333 [==============================] - 5s 15ms/step - loss: 0.0078 - accuracy: 0.9960 - val_loss: 1.5729 - val_accuracy: 0.7717\n",
            "Epoch 64/100\n",
            "333/333 [==============================] - 5s 14ms/step - loss: 0.0093 - accuracy: 0.9960 - val_loss: 1.4303 - val_accuracy: 0.7648\n",
            "Epoch 65/100\n",
            "333/333 [==============================] - 4s 13ms/step - loss: 0.0091 - accuracy: 0.9960 - val_loss: 1.4527 - val_accuracy: 0.7762\n",
            "Epoch 66/100\n",
            "333/333 [==============================] - 5s 15ms/step - loss: 0.0084 - accuracy: 0.9973 - val_loss: 1.4468 - val_accuracy: 0.7775\n",
            "Epoch 67/100\n",
            "333/333 [==============================] - 5s 14ms/step - loss: 0.0077 - accuracy: 0.9969 - val_loss: 1.6193 - val_accuracy: 0.7746\n",
            "Epoch 68/100\n",
            "333/333 [==============================] - 5s 15ms/step - loss: 0.0099 - accuracy: 0.9952 - val_loss: 1.2378 - val_accuracy: 0.7639\n",
            "Epoch 69/100\n",
            "333/333 [==============================] - 5s 16ms/step - loss: 0.0157 - accuracy: 0.9940 - val_loss: 1.4180 - val_accuracy: 0.7857\n",
            "Epoch 70/100\n",
            "333/333 [==============================] - 4s 13ms/step - loss: 0.0114 - accuracy: 0.9958 - val_loss: 1.2883 - val_accuracy: 0.7799\n",
            "Epoch 71/100\n",
            "333/333 [==============================] - 5s 17ms/step - loss: 0.0078 - accuracy: 0.9959 - val_loss: 1.4725 - val_accuracy: 0.7811\n",
            "Epoch 72/100\n",
            "333/333 [==============================] - 5s 14ms/step - loss: 0.0079 - accuracy: 0.9958 - val_loss: 1.5162 - val_accuracy: 0.7820\n",
            "Epoch 73/100\n",
            "333/333 [==============================] - 4s 13ms/step - loss: 0.0070 - accuracy: 0.9964 - val_loss: 1.5358 - val_accuracy: 0.7754\n",
            "Epoch 74/100\n",
            "333/333 [==============================] - 5s 15ms/step - loss: 0.0075 - accuracy: 0.9964 - val_loss: 1.3780 - val_accuracy: 0.7730\n",
            "Epoch 75/100\n",
            "333/333 [==============================] - 5s 15ms/step - loss: 0.0072 - accuracy: 0.9966 - val_loss: 1.5743 - val_accuracy: 0.7770\n",
            "Epoch 76/100\n",
            "333/333 [==============================] - 4s 13ms/step - loss: 0.0363 - accuracy: 0.9873 - val_loss: 0.9797 - val_accuracy: 0.7725\n",
            "Epoch 77/100\n",
            "333/333 [==============================] - 5s 16ms/step - loss: 0.0141 - accuracy: 0.9943 - val_loss: 1.2310 - val_accuracy: 0.7799\n",
            "Epoch 78/100\n",
            "333/333 [==============================] - 4s 13ms/step - loss: 0.0079 - accuracy: 0.9960 - val_loss: 1.5150 - val_accuracy: 0.7775\n",
            "Epoch 79/100\n",
            "333/333 [==============================] - 4s 13ms/step - loss: 0.0072 - accuracy: 0.9963 - val_loss: 1.5222 - val_accuracy: 0.7779\n",
            "Epoch 80/100\n",
            "333/333 [==============================] - 5s 15ms/step - loss: 0.0071 - accuracy: 0.9966 - val_loss: 1.6338 - val_accuracy: 0.7828\n",
            "Epoch 81/100\n",
            "333/333 [==============================] - 4s 13ms/step - loss: 0.0069 - accuracy: 0.9971 - val_loss: 1.5511 - val_accuracy: 0.7848\n",
            "Epoch 82/100\n",
            "333/333 [==============================] - 4s 13ms/step - loss: 0.0077 - accuracy: 0.9963 - val_loss: 1.4324 - val_accuracy: 0.7766\n",
            "Epoch 83/100\n",
            "333/333 [==============================] - 6s 17ms/step - loss: 0.0065 - accuracy: 0.9975 - val_loss: 1.7863 - val_accuracy: 0.7816\n",
            "Epoch 84/100\n",
            "333/333 [==============================] - 5s 14ms/step - loss: 0.0070 - accuracy: 0.9969 - val_loss: 1.6471 - val_accuracy: 0.7820\n",
            "Epoch 85/100\n",
            "333/333 [==============================] - 5s 14ms/step - loss: 0.0059 - accuracy: 0.9971 - val_loss: 1.7979 - val_accuracy: 0.7721\n",
            "Epoch 86/100\n",
            "333/333 [==============================] - 5s 15ms/step - loss: 0.0063 - accuracy: 0.9964 - val_loss: 1.8159 - val_accuracy: 0.7807\n",
            "Epoch 87/100\n",
            "333/333 [==============================] - 4s 13ms/step - loss: 0.0067 - accuracy: 0.9974 - val_loss: 1.6551 - val_accuracy: 0.7787\n",
            "Epoch 88/100\n",
            "333/333 [==============================] - 6s 19ms/step - loss: 0.0092 - accuracy: 0.9962 - val_loss: 1.5687 - val_accuracy: 0.7869\n",
            "Epoch 89/100\n",
            "333/333 [==============================] - 5s 14ms/step - loss: 0.0102 - accuracy: 0.9966 - val_loss: 1.4767 - val_accuracy: 0.7828\n",
            "Epoch 90/100\n",
            "333/333 [==============================] - 4s 13ms/step - loss: 0.0119 - accuracy: 0.9948 - val_loss: 1.1685 - val_accuracy: 0.7762\n",
            "Epoch 91/100\n",
            "333/333 [==============================] - 5s 14ms/step - loss: 0.0083 - accuracy: 0.9958 - val_loss: 1.5503 - val_accuracy: 0.7717\n",
            "Epoch 92/100\n",
            "333/333 [==============================] - 5s 15ms/step - loss: 0.0075 - accuracy: 0.9967 - val_loss: 1.5287 - val_accuracy: 0.7684\n",
            "Epoch 93/100\n",
            "333/333 [==============================] - 5s 14ms/step - loss: 0.0059 - accuracy: 0.9974 - val_loss: 1.6492 - val_accuracy: 0.7672\n",
            "Epoch 94/100\n",
            "333/333 [==============================] - 6s 18ms/step - loss: 0.0059 - accuracy: 0.9970 - val_loss: 1.5561 - val_accuracy: 0.7652\n",
            "Epoch 95/100\n",
            "333/333 [==============================] - 4s 13ms/step - loss: 0.0061 - accuracy: 0.9970 - val_loss: 1.7187 - val_accuracy: 0.7750\n",
            "Epoch 96/100\n",
            "333/333 [==============================] - 4s 13ms/step - loss: 0.0061 - accuracy: 0.9974 - val_loss: 1.7103 - val_accuracy: 0.7639\n",
            "Epoch 97/100\n",
            "333/333 [==============================] - 5s 15ms/step - loss: 0.0057 - accuracy: 0.9974 - val_loss: 1.7577 - val_accuracy: 0.7697\n",
            "Epoch 98/100\n",
            "333/333 [==============================] - 4s 13ms/step - loss: 0.0058 - accuracy: 0.9967 - val_loss: 1.8291 - val_accuracy: 0.7684\n",
            "Epoch 99/100\n",
            "333/333 [==============================] - 4s 13ms/step - loss: 0.0066 - accuracy: 0.9970 - val_loss: 1.5136 - val_accuracy: 0.7738\n",
            "Epoch 100/100\n",
            "333/333 [==============================] - 5s 15ms/step - loss: 0.0062 - accuracy: 0.9963 - val_loss: 1.6630 - val_accuracy: 0.7775\n"
          ]
        },
        {
          "output_type": "execute_result",
          "data": {
            "text/plain": [
              "<keras.callbacks.History at 0x7f64e4b51120>"
            ]
          },
          "metadata": {},
          "execution_count": 12
        }
      ],
      "source": [
        "model.fit(X_train_pad, y_train,\n",
        "          batch_size=22,epochs=100,\n",
        "          validation_data=(X_test_pad, y_test))"
      ]
    },
    {
      "cell_type": "code",
      "execution_count": null,
      "metadata": {
        "id": "3GHSmCrqrlOj",
        "colab": {
          "base_uri": "https://localhost:8080/"
        },
        "outputId": "0f32c5ce-1a58-47ac-b807-de0f9c199fe0"
      },
      "outputs": [
        {
          "output_type": "stream",
          "name": "stdout",
          "text": [
            "77/77 [==============================] - 1s 8ms/step - loss: 1.6630 - accuracy: 0.7775\n",
            "Test Accuracy: 0.7774590253829956\n"
          ]
        }
      ],
      "source": [
        "# Evaluate the model on the test set\n",
        "test_loss, test_acc = model.evaluate(X_test_pad, y_test)\n",
        "\n",
        "print(\"Test Accuracy:\", test_acc)"
      ]
    },
    {
      "cell_type": "code",
      "source": [
        "# Make predictions on new data\n",
        "txt = [\"خدمة زباله\",\"وحش جدا المكان محدش يروحه\",\"انصح بالفيلم ده كويس \",\"انا حزين جدا\",\"سعيد جدا الان \"]\n",
        "new_sequences = tokenizer.texts_to_sequences(txt)\n",
        "new_data = pad_sequences(new_sequences, maxlen=max_len)\n",
        "predictions = model.predict(new_data)"
      ],
      "metadata": {
        "colab": {
          "base_uri": "https://localhost:8080/"
        },
        "id": "VCxvfDD2bzEe",
        "outputId": "9f2f7318-1006-4948-ac48-9a3318da991a"
      },
      "execution_count": null,
      "outputs": [
        {
          "output_type": "stream",
          "name": "stdout",
          "text": [
            "1/1 [==============================] - 0s 34ms/step\n"
          ]
        }
      ]
    },
    {
      "cell_type": "code",
      "source": [
        "for i in range(len(txt)):\n",
        "  print(f'{txt[i]} : { \"ايجابي\"if predictions[i][0]>0.5 else \"سلبي\" }')\n"
      ],
      "metadata": {
        "colab": {
          "base_uri": "https://localhost:8080/"
        },
        "id": "7SUCchZamOhB",
        "outputId": "4235bdcd-f656-41e2-d4f5-a882a7230c8d"
      },
      "execution_count": null,
      "outputs": [
        {
          "output_type": "stream",
          "name": "stdout",
          "text": [
            "خدمة زباله : سلبي\n",
            "وحش جدا المكان محدش يروحه : سلبي\n",
            "انصح بالفيلم ده كويس  : ايجابي\n",
            "انا حزين جدا : سلبي\n",
            "سعيد جدا الان  : ايجابي\n"
          ]
        }
      ]
    },
    {
      "cell_type": "code",
      "source": [],
      "metadata": {
        "id": "lVz13l4fcVX9"
      },
      "execution_count": null,
      "outputs": []
    }
  ],
  "metadata": {
    "accelerator": "GPU",
    "colab": {
      "provenance": []
    },
    "gpuClass": "standard",
    "kernelspec": {
      "display_name": "Python 3 (ipykernel)",
      "language": "python",
      "name": "python3"
    },
    "language_info": {
      "codemirror_mode": {
        "name": "ipython",
        "version": 3
      },
      "file_extension": ".py",
      "mimetype": "text/x-python",
      "name": "python",
      "nbconvert_exporter": "python",
      "pygments_lexer": "ipython3",
      "version": "3.9.12"
    }
  },
  "nbformat": 4,
  "nbformat_minor": 0
}